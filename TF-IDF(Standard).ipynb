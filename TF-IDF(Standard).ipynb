{
 "cells": [
  {
   "cell_type": "markdown",
   "id": "ca91e8d9",
   "metadata": {},
   "source": [
    "# Libraries"
   ]
  },
  {
   "cell_type": "code",
   "execution_count": 41,
   "id": "262494af",
   "metadata": {},
   "outputs": [],
   "source": [
    "from sklearn.feature_extraction.text import TfidfVectorizer"
   ]
  },
  {
   "cell_type": "markdown",
   "id": "1560ca3e",
   "metadata": {},
   "source": [
    "# Corpus"
   ]
  },
  {
   "cell_type": "code",
   "execution_count": 42,
   "id": "db65c564",
   "metadata": {},
   "outputs": [],
   "source": [
    "C = ['Cat Dog Cat Man', 'Man Woman', 'Cat Tiger']"
   ]
  },
  {
   "cell_type": "markdown",
   "id": "345ac7d1",
   "metadata": {},
   "source": [
    "# Preprocess Corpus"
   ]
  },
  {
   "cell_type": "code",
   "execution_count": 43,
   "id": "3c3c01be",
   "metadata": {},
   "outputs": [],
   "source": [
    "C = [d.lower() for d in C]"
   ]
  },
  {
   "cell_type": "markdown",
   "id": "b0dfcc7b",
   "metadata": {},
   "source": [
    "# TF-IDF"
   ]
  },
  {
   "cell_type": "code",
   "execution_count": 44,
   "id": "9d409baa",
   "metadata": {},
   "outputs": [],
   "source": [
    "tfidf = TfidfVectorizer()"
   ]
  },
  {
   "cell_type": "markdown",
   "id": "a205e411",
   "metadata": {},
   "source": [
    "# Converting Vector"
   ]
  },
  {
   "cell_type": "code",
   "execution_count": 45,
   "id": "f5891cb6",
   "metadata": {},
   "outputs": [],
   "source": [
    "vector = tfidf.fit_transform(C)"
   ]
  },
  {
   "cell_type": "markdown",
   "id": "9808467a",
   "metadata": {},
   "source": [
    "# Vocabulary"
   ]
  },
  {
   "cell_type": "code",
   "execution_count": 46,
   "id": "dd061b50",
   "metadata": {},
   "outputs": [
    {
     "name": "stdout",
     "output_type": "stream",
     "text": [
      "{'cat': 0, 'dog': 1, 'man': 2, 'woman': 4, 'tiger': 3}\n"
     ]
    }
   ],
   "source": [
    "print(tfidf.vocabulary_)"
   ]
  },
  {
   "cell_type": "markdown",
   "id": "f3c3b7ee",
   "metadata": {},
   "source": [
    "# Final Output"
   ]
  },
  {
   "cell_type": "code",
   "execution_count": 47,
   "id": "f8f0d9b2",
   "metadata": {},
   "outputs": [
    {
     "name": "stdout",
     "output_type": "stream",
     "text": [
      "['cat' 'dog' 'man' 'tiger' 'woman']\n",
      "[1.28768207 1.69314718 1.28768207 1.69314718 1.69314718]\n",
      "[[0.77100584 0.50689001 0.38550292 0.         0.        ]\n",
      " [0.         0.         0.60534851 0.         0.79596054]\n",
      " [0.60534851 0.         0.         0.79596054 0.        ]]\n"
     ]
    }
   ],
   "source": [
    "print(tfidf.get_feature_names_out())\n",
    "print(tfidf.idf_)\n",
    "print(vector.toarray())"
   ]
  },
  {
   "cell_type": "code",
   "execution_count": null,
   "id": "d023620c",
   "metadata": {},
   "outputs": [],
   "source": []
  }
 ],
 "metadata": {
  "kernelspec": {
   "display_name": "Python 3 (ipykernel)",
   "language": "python",
   "name": "python3"
  },
  "language_info": {
   "codemirror_mode": {
    "name": "ipython",
    "version": 3
   },
   "file_extension": ".py",
   "mimetype": "text/x-python",
   "name": "python",
   "nbconvert_exporter": "python",
   "pygments_lexer": "ipython3",
   "version": "3.11.4"
  }
 },
 "nbformat": 4,
 "nbformat_minor": 5
}
