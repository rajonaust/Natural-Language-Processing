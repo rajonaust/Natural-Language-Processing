{
 "cells": [
  {
   "cell_type": "code",
   "execution_count": 30,
   "id": "1f8311c6",
   "metadata": {},
   "outputs": [],
   "source": [
    "import math"
   ]
  },
  {
   "cell_type": "markdown",
   "id": "6f11e3a3",
   "metadata": {},
   "source": [
    "# Corpus"
   ]
  },
  {
   "cell_type": "code",
   "execution_count": 31,
   "id": "bdc9a0cb",
   "metadata": {},
   "outputs": [],
   "source": [
    "C = ['Cat Dog Cat Man', 'Man Woman', 'Cat Tiger']"
   ]
  },
  {
   "cell_type": "markdown",
   "id": "129e7872",
   "metadata": {},
   "source": [
    "# Term Frequency (TF)"
   ]
  },
  {
   "cell_type": "code",
   "execution_count": 32,
   "id": "191a3a78",
   "metadata": {},
   "outputs": [],
   "source": [
    "def TF(w, d):\n",
    "    return d.split().count(w) / len(d.split())"
   ]
  },
  {
   "cell_type": "markdown",
   "id": "9093b349",
   "metadata": {},
   "source": [
    "# Inverse Document Frequency (IDF)"
   ]
  },
  {
   "cell_type": "code",
   "execution_count": 33,
   "id": "ec553aa0",
   "metadata": {},
   "outputs": [],
   "source": [
    "def IDF(w, C):\n",
    "    return math.log(len(C) / sum(1 for d in C if w in d.split()))"
   ]
  },
  {
   "cell_type": "markdown",
   "id": "d48c6bf1",
   "metadata": {},
   "source": [
    "# TF-IDF"
   ]
  },
  {
   "cell_type": "code",
   "execution_count": 34,
   "id": "4ce69f94",
   "metadata": {},
   "outputs": [],
   "source": [
    "def TF_IDF(w, d, C):\n",
    "    return TF(w, d) * IDF(w, C)"
   ]
  },
  {
   "cell_type": "markdown",
   "id": "e777c46b",
   "metadata": {},
   "source": [
    "# Preprocess Corpus"
   ]
  },
  {
   "cell_type": "code",
   "execution_count": 35,
   "id": "75d2fce7",
   "metadata": {},
   "outputs": [],
   "source": [
    "C = [d.lower() for d in C]"
   ]
  },
  {
   "cell_type": "markdown",
   "id": "d916adf6",
   "metadata": {},
   "source": [
    "# Vocabulary"
   ]
  },
  {
   "cell_type": "code",
   "execution_count": 36,
   "id": "0c6efb71",
   "metadata": {},
   "outputs": [],
   "source": [
    "V = list(set(w for d in C for w in d.split()))"
   ]
  },
  {
   "cell_type": "markdown",
   "id": "1aaf3fba",
   "metadata": {},
   "source": [
    "# IDF Values"
   ]
  },
  {
   "cell_type": "code",
   "execution_count": 37,
   "id": "31474bad",
   "metadata": {},
   "outputs": [],
   "source": [
    "idf_values = []\n",
    "for w_cur in range(len(V)):\n",
    "    idf_values.append(IDF(V[w_cur], C))"
   ]
  },
  {
   "cell_type": "markdown",
   "id": "c07eac28",
   "metadata": {},
   "source": [
    "# Converting Vector of the Entire Corpus"
   ]
  },
  {
   "cell_type": "code",
   "execution_count": 38,
   "id": "528fd38e",
   "metadata": {
    "scrolled": true
   },
   "outputs": [],
   "source": [
    "vector = [[0 for j in V] for i in C]\n",
    "for w_cur in range(len(V)):\n",
    "    for d_cur in range(len(C)):\n",
    "        vector[d_cur][w_cur] = TF_IDF(V[w_cur], C[d_cur], C)"
   ]
  },
  {
   "cell_type": "markdown",
   "id": "45ee6d3b",
   "metadata": {},
   "source": [
    "# Final Output"
   ]
  },
  {
   "cell_type": "code",
   "execution_count": 39,
   "id": "c224c551",
   "metadata": {},
   "outputs": [
    {
     "name": "stdout",
     "output_type": "stream",
     "text": [
      "['cat', 'tiger', 'dog', 'man', 'woman']\n",
      "[0.4054651081081644, 1.0986122886681098, 1.0986122886681098, 0.4054651081081644, 1.0986122886681098]\n",
      "[[0.2027325540540822, 0.0, 0.27465307216702745, 0.1013662770270411, 0.0], [0.0, 0.0, 0.0, 0.2027325540540822, 0.5493061443340549], [0.2027325540540822, 0.5493061443340549, 0.0, 0.0, 0.0]]\n"
     ]
    }
   ],
   "source": [
    "print(V)\n",
    "print(idf_values)\n",
    "print(vector)"
   ]
  },
  {
   "cell_type": "code",
   "execution_count": null,
   "id": "715b691f",
   "metadata": {},
   "outputs": [],
   "source": []
  }
 ],
 "metadata": {
  "kernelspec": {
   "display_name": "Python 3 (ipykernel)",
   "language": "python",
   "name": "python3"
  },
  "language_info": {
   "codemirror_mode": {
    "name": "ipython",
    "version": 3
   },
   "file_extension": ".py",
   "mimetype": "text/x-python",
   "name": "python",
   "nbconvert_exporter": "python",
   "pygments_lexer": "ipython3",
   "version": "3.11.4"
  }
 },
 "nbformat": 4,
 "nbformat_minor": 5
}
